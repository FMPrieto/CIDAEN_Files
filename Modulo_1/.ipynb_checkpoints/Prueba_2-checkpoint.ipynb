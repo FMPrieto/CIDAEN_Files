{
 "cells": [
  {
   "cell_type": "code",
   "execution_count": 2,
   "id": "e01948cc-9d99-47a0-be14-6dc4592c991e",
   "metadata": {
    "tags": []
   },
   "outputs": [
    {
     "name": "stdout",
     "output_type": "stream",
     "text": [
      "Prieba2\n"
     ]
    }
   ],
   "source": [
    "print(\"Prieba2\")"
   ]
  },
  {
   "cell_type": "code",
   "execution_count": 3,
   "id": "47e1f157-9a00-4574-a95e-0eb4660cafe2",
   "metadata": {},
   "outputs": [
    {
     "name": "stdout",
     "output_type": "stream",
     "text": [
      "Name 0\n",
      "Name 1\n",
      "Name 2\n",
      "Name 3\n",
      "Name 4\n",
      "Name 5\n",
      "Name 6\n",
      "Name 7\n",
      "Name 8\n",
      "Name 9\n"
     ]
    }
   ],
   "source": [
    "for i in range(10):\n",
    "    print(\"Name\", i)"
   ]
  },
  {
   "cell_type": "code",
   "execution_count": 4,
   "id": "ececb2a3-e766-4849-80c4-dbf737df315d",
   "metadata": {},
   "outputs": [
    {
     "ename": "SyntaxError",
     "evalue": "invalid syntax (2221707381.py, line 1)",
     "output_type": "error",
     "traceback": [
      "\u001b[1;36m  Input \u001b[1;32mIn [4]\u001b[1;36m\u001b[0m\n\u001b[1;33m    pip3 install PyGithub requests\u001b[0m\n\u001b[1;37m         ^\u001b[0m\n\u001b[1;31mSyntaxError\u001b[0m\u001b[1;31m:\u001b[0m invalid syntax\n"
     ]
    }
   ],
   "source": [
    "pip3 install PyGithub requests"
   ]
  },
  {
   "cell_type": "code",
   "execution_count": null,
   "id": "8c387ec7-c2bd-42d8-b142-056956a3271f",
   "metadata": {},
   "outputs": [],
   "source": []
  }
 ],
 "metadata": {
  "kernelspec": {
   "display_name": "Python 3 (ipykernel)",
   "language": "python",
   "name": "python3"
  },
  "language_info": {
   "codemirror_mode": {
    "name": "ipython",
    "version": 3
   },
   "file_extension": ".py",
   "mimetype": "text/x-python",
   "name": "python",
   "nbconvert_exporter": "python",
   "pygments_lexer": "ipython3",
   "version": "3.9.12"
  }
 },
 "nbformat": 4,
 "nbformat_minor": 5
}
